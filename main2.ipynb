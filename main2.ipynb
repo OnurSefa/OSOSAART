{
 "cells": [
  {
   "cell_type": "code",
   "execution_count": 1,
   "metadata": {},
   "outputs": [],
   "source": [
    "import torch\n",
    "import torch.nn as nn\n",
    "import numpy as np\n",
    "import os\n",
    "import torchvision\n",
    "import torch.nn.functional as F"
   ]
  },
  {
   "cell_type": "code",
   "execution_count": 2,
   "metadata": {},
   "outputs": [],
   "source": [
    "class Network(nn.Module):\n",
    "    def __init__(self):\n",
    "        super(Network, self).__init__()\n",
    "        \n",
    "        self.conv1 = nn.Conv2d(3, 12, 5, stride=1, padding=1)\n",
    "        self.bn1 = nn.BatchNorm2d(12)\n",
    "        self.conv2 = nn.Conv2d(in_channels=12, out_channels=12, kernel_size=5, stride=1, padding=1)\n",
    "        self.bn2 = nn.BatchNorm2d(12)\n",
    "        self.pool = nn.MaxPool2d(2,2)\n",
    "        self.conv4 = nn.Conv2d(in_channels=12, out_channels=12, kernel_size=5, stride=1, padding=1)\n",
    "        self.bn4 = nn.BatchNorm2d(12)\n",
    "        self.conv5 = nn.Conv2d(in_channels=12, out_channels=24, kernel_size=5, stride=1, padding=1)\n",
    "        self.bn5 = nn.BatchNorm2d(24)\n",
    "        self.conv6 = nn.Conv2d(in_channels=24, out_channels=24, kernel_size=5, stride=1, padding=1)\n",
    "        self.bn6 = nn.BatchNorm2d(24)\n",
    "        self.conv7 = nn.Conv2d(in_channels=24, out_channels=24, kernel_size=5, stride=1, padding=1)\n",
    "        self.bn7 = nn.BatchNorm2d(24)\n",
    "        self.fc1 = nn.Linear(24*34*34, 4096)\n",
    "        self.fc2 = nn.Linear(28000, 4096)\n",
    "        self.fc3 = nn.Linear(4096, 14)\n",
    "        self.fc4 = nn.Linear(1024, 14)\n",
    "\n",
    "    def forward(self, input):\n",
    "        output = F.relu(self.bn1(self.conv1(input)))      \n",
    "        output = F.relu(self.bn2(self.conv2(output)))     \n",
    "        output = self.pool(output)                        \n",
    "        output = F.relu(self.bn4(self.conv4(output)))     \n",
    "        output = F.relu(self.bn5(self.conv5(output)))\n",
    "        output = self.pool(output)\n",
    "        output = F.relu(self.bn6(self.conv6(output)))\n",
    "        output = F.relu(self.bn7(self.conv7(output)))\n",
    "        output = self.pool(output)\n",
    "        output = output.view(-1, 24*34*34)\n",
    "        output = F.relu(self.fc1(output))\n",
    "        # output = F.relu(self.fc2(output))\n",
    "        # output = F.relu(self.fc3(output))\n",
    "        output = self.fc3(output) \n",
    "\n",
    "        return output"
   ]
  },
  {
   "cell_type": "code",
   "execution_count": 3,
   "metadata": {},
   "outputs": [],
   "source": [
    "def saveModel(model, accuracy, path='./model_large_{}.pth'):\n",
    "    torch.save(model.state_dict(), path.format(accuracy))"
   ]
  },
  {
   "cell_type": "code",
   "execution_count": 4,
   "metadata": {},
   "outputs": [],
   "source": [
    "def testAccuracy(model, outputs, labels):\n",
    "    \n",
    "    model.eval()\n",
    "    accuracy = 0.0\n",
    "    total = 0.0\n",
    "    correct = 0.0\n",
    "    \n",
    "    _, predicted = torch.max(outputs.data, 1)\n",
    "    with torch.no_grad():\n",
    "        for p, l in zip(predicted, labels):\n",
    "            total += 1\n",
    "            if p.data == l.data:\n",
    "                correct += 1\n",
    "    \n",
    "    accuracy = 100 * (correct / total)\n",
    "    return accuracy"
   ]
  },
  {
   "cell_type": "code",
   "execution_count": 5,
   "metadata": {},
   "outputs": [],
   "source": [
    "def train(device, limit=5000, batch_count=20, epoch=200, learning_rate=0.005, save_path='./ososa_model.pth'):\n",
    "    model = Network().to(device)\n",
    "    loss_fn = nn.CrossEntropyLoss()\n",
    "    optimizer = torch.optim.Adam(model.parameters(), lr=0.001, weight_decay=0.0001)\n",
    "    \n",
    "    batch_size = int(limit / batch_count)\n",
    "    best_accuracy = 0\n",
    "\n",
    "    for e in range(epoch):\n",
    "        total_accuracy = 0\n",
    "        for b in range(batch_count):\n",
    "            model.train()\n",
    "            start_index = b*batch_size\n",
    "            end_index = (b+1)*batch_size\n",
    "\n",
    "            batched_x, batched_y = take_data(start_index, end_index)\n",
    "\n",
    "            train_data = torch.from_numpy(batched_x).float().to(device)\n",
    "            train_labels = torch.from_numpy(batched_y).long().to(device)\n",
    "            optimizer.zero_grad()\n",
    "            prediction = model(train_data)\n",
    "            loss = loss_fn(prediction, train_labels)\n",
    "            loss.backward()\n",
    "            optimizer.step()\n",
    "                \n",
    "            accuracy = testAccuracy(model, prediction, train_labels)\n",
    "            total_accuracy += accuracy\n",
    "\n",
    "            batch_limit = 20\n",
    "            if b % batch_limit == batch_limit - 1:\n",
    "                current_accuracy = total_accuracy / batch_limit\n",
    "                total_accuracy = 0\n",
    "\n",
    "                if current_accuracy > best_accuracy:\n",
    "                    best_accuracy = current_accuracy\n",
    "                    print(best_accuracy)\n",
    "                    saveModel(model, accuracy)\n",
    "        if e % 10 == 0:\n",
    "            print(\"Loss in e={} is {}\".format(e, loss))\n",
    "\n",
    "    print('finished')"
   ]
  },
  {
   "cell_type": "code",
   "execution_count": 6,
   "metadata": {},
   "outputs": [],
   "source": [
    "def test(start_limit, end_limit, device, batch_count=4, load_path='./model_large.pth'):\n",
    "    correct = 0\n",
    "    total = 0\n",
    "    \n",
    "    batch_size = int((end_limit - start_limit) / batch_count)\n",
    "    for b in range(batch_count):\n",
    "\n",
    "        start_index = b*batch_size + start_limit\n",
    "        end_index = (b+1)*batch_size + start_limit\n",
    "        \n",
    "        batched_x, batched_y = take_data(start_index, end_index)\n",
    "\n",
    "        test_data = torch.from_numpy(batched_x).float().to(device)\n",
    "        test_labels = torch.from_numpy(batched_y).long().to(device)\n",
    "        with torch.no_grad():\n",
    "            model = Network().to(device)\n",
    "            model.load_state_dict(torch.load(load_path))\n",
    "            outputs = model(test_data)\n",
    "            _, predicted = torch.max(outputs.data, 1)\n",
    "            for p, l in zip(predicted, test_labels):\n",
    "                total += 1\n",
    "                if p.data == l.data:\n",
    "                    correct += 1\n",
    "        if b % 10 == 9:\n",
    "            print(\"Accuracy: {}\\tTotal: {}\\tCorrect: {}\".format(correct/total, total, correct))\n",
    "    print(\"Total:\", total)\n",
    "    print(\"Correct:\", correct)\n",
    "    print(\"Accuracy:\", correct/total)\n",
    "    torch.cuda.empty_cache()"
   ]
  },
  {
   "cell_type": "code",
   "execution_count": 7,
   "metadata": {},
   "outputs": [],
   "source": [
    "def take_data(start_index, end_index, input_directory_1=\"./numpy_images\", input_directory_2=\"./labels\"):\n",
    "\tdirectory_list = os.listdir(input_directory_1)[start_index: end_index]\n",
    "\tdata = []\n",
    "\tlabels = []\n",
    "\tfor i, image_name in enumerate(directory_list):\n",
    "\t\ttry:\n",
    "\t\t\tdatum = np.load(\"{}/{}\".format(input_directory_1, image_name))\n",
    "\t\t\tdatum = datum.reshape(3, 300, 300)\n",
    "\t\t\tlabel = np.load(\"{}/{}\".format(input_directory_2, image_name))\n",
    "\t\t\tdata.append(datum)\n",
    "\t\t\tlabels.append(label)\n",
    "\t\texcept ValueError:\n",
    "\t\t\tpass\n",
    "\treturn np.array(data), np.array(labels)"
   ]
  },
  {
   "cell_type": "code",
   "execution_count": 8,
   "metadata": {},
   "outputs": [],
   "source": [
    "if torch.cuda.is_available:\n",
    "    device = 'cuda'\n",
    "else:\n",
    "    device = 'cpu'"
   ]
  },
  {
   "cell_type": "code",
   "execution_count": 9,
   "metadata": {},
   "outputs": [
    {
     "name": "stdout",
     "output_type": "stream",
     "text": [
      "11.686371100164203\n",
      "16.54597701149425\n",
      "22.747126436781606\n",
      "24.109195402298845\n",
      "26.83169129720854\n",
      "26.856321839080465\n",
      "26.96551724137931\n",
      "28.154761904761905\n",
      "29.25656814449918\n",
      "30.902298850574716\n",
      "32.9712643678161\n",
      "33.00574712643677\n",
      "33.05172413793103\n",
      "34.2816091954023\n",
      "35.222085385878486\n",
      "35.39080459770115\n",
      "37.47126436781609\n",
      "Loss in e=0 is 1.8447433710098267\n",
      "38.373563218390814\n",
      "38.43678160919539\n",
      "38.5919540229885\n",
      "39.439655172413794\n",
      "40.206896551724135\n",
      "41.781609195402304\n",
      "42.46551724137931\n",
      "44.241379310344826\n",
      "45.34482758620688\n",
      "46.488505747126425\n",
      "47.32183908045977\n",
      "48.2816091954023\n",
      "49.310344827586206\n",
      "50.465927750410515\n",
      "51.132183908045974\n",
      "51.431034482758626\n",
      "52.28160919540229\n",
      "52.52380952380953\n",
      "53.252873563218394\n",
      "55.00574712643678\n",
      "56.045977011494244\n",
      "56.919540229885044\n",
      "57.74302134646962\n",
      "57.90229885057471\n",
      "58.67241379310345\n",
      "59.98275862068965\n",
      "61.718390804597696\n",
      "62.172413793103445\n",
      "65.1912972085386\n",
      "Loss in e=10 is 1.528051733970642\n",
      "66.73481116584564\n",
      "69.55336617405582\n",
      "72.16666666666669\n",
      "74.49425287356323\n",
      "75.99425287356323\n",
      "77.20114942528735\n",
      "79.22413793103448\n",
      "81.72413793103446\n",
      "82.02873563218392\n",
      "85.45402298850574\n",
      "87.60919540229884\n",
      "87.91379310344828\n",
      "88.72249589490971\n"
     ]
    },
    {
     "ename": "KeyboardInterrupt",
     "evalue": "",
     "output_type": "error",
     "traceback": [
      "\u001b[1;31m---------------------------------------------------------------------------\u001b[0m",
      "\u001b[1;31mKeyboardInterrupt\u001b[0m                         Traceback (most recent call last)",
      "\u001b[1;32m~\\AppData\\Local\\Temp/ipykernel_15744/1141626373.py\u001b[0m in \u001b[0;36m<module>\u001b[1;34m\u001b[0m\n\u001b[1;32m----> 1\u001b[1;33m \u001b[0mtrain\u001b[0m\u001b[1;33m(\u001b[0m\u001b[0mdevice\u001b[0m\u001b[1;33m,\u001b[0m \u001b[0mlimit\u001b[0m\u001b[1;33m=\u001b[0m\u001b[1;36m60000\u001b[0m\u001b[1;33m,\u001b[0m \u001b[0mbatch_count\u001b[0m\u001b[1;33m=\u001b[0m\u001b[1;36m2000\u001b[0m\u001b[1;33m,\u001b[0m \u001b[0mepoch\u001b[0m\u001b[1;33m=\u001b[0m\u001b[1;36m200\u001b[0m\u001b[1;33m)\u001b[0m\u001b[1;33m\u001b[0m\u001b[1;33m\u001b[0m\u001b[0m\n\u001b[0m\u001b[0;32m      2\u001b[0m \u001b[0mtorch\u001b[0m\u001b[1;33m.\u001b[0m\u001b[0mcuda\u001b[0m\u001b[1;33m.\u001b[0m\u001b[0mempty_cache\u001b[0m\u001b[1;33m(\u001b[0m\u001b[1;33m)\u001b[0m\u001b[1;33m\u001b[0m\u001b[1;33m\u001b[0m\u001b[0m\n",
      "\u001b[1;32m~\\AppData\\Local\\Temp/ipykernel_15744/72648675.py\u001b[0m in \u001b[0;36mtrain\u001b[1;34m(device, limit, batch_count, epoch, learning_rate, save_path)\u001b[0m\n\u001b[0;32m     24\u001b[0m             \u001b[0moptimizer\u001b[0m\u001b[1;33m.\u001b[0m\u001b[0mstep\u001b[0m\u001b[1;33m(\u001b[0m\u001b[1;33m)\u001b[0m\u001b[1;33m\u001b[0m\u001b[1;33m\u001b[0m\u001b[0m\n\u001b[0;32m     25\u001b[0m \u001b[1;33m\u001b[0m\u001b[0m\n\u001b[1;32m---> 26\u001b[1;33m             \u001b[0maccuracy\u001b[0m \u001b[1;33m=\u001b[0m \u001b[0mtestAccuracy\u001b[0m\u001b[1;33m(\u001b[0m\u001b[0mmodel\u001b[0m\u001b[1;33m,\u001b[0m \u001b[0mprediction\u001b[0m\u001b[1;33m,\u001b[0m \u001b[0mtrain_labels\u001b[0m\u001b[1;33m)\u001b[0m\u001b[1;33m\u001b[0m\u001b[1;33m\u001b[0m\u001b[0m\n\u001b[0m\u001b[0;32m     27\u001b[0m             \u001b[0mtotal_accuracy\u001b[0m \u001b[1;33m+=\u001b[0m \u001b[0maccuracy\u001b[0m\u001b[1;33m\u001b[0m\u001b[1;33m\u001b[0m\u001b[0m\n\u001b[0;32m     28\u001b[0m \u001b[1;33m\u001b[0m\u001b[0m\n",
      "\u001b[1;32m~\\AppData\\Local\\Temp/ipykernel_15744/3124609758.py\u001b[0m in \u001b[0;36mtestAccuracy\u001b[1;34m(model, outputs, labels)\u001b[0m\n\u001b[0;32m     10\u001b[0m         \u001b[1;32mfor\u001b[0m \u001b[0mp\u001b[0m\u001b[1;33m,\u001b[0m \u001b[0ml\u001b[0m \u001b[1;32min\u001b[0m \u001b[0mzip\u001b[0m\u001b[1;33m(\u001b[0m\u001b[0mpredicted\u001b[0m\u001b[1;33m,\u001b[0m \u001b[0mlabels\u001b[0m\u001b[1;33m)\u001b[0m\u001b[1;33m:\u001b[0m\u001b[1;33m\u001b[0m\u001b[1;33m\u001b[0m\u001b[0m\n\u001b[0;32m     11\u001b[0m             \u001b[0mtotal\u001b[0m \u001b[1;33m+=\u001b[0m \u001b[1;36m1\u001b[0m\u001b[1;33m\u001b[0m\u001b[1;33m\u001b[0m\u001b[0m\n\u001b[1;32m---> 12\u001b[1;33m             \u001b[1;32mif\u001b[0m \u001b[0mp\u001b[0m\u001b[1;33m.\u001b[0m\u001b[0mdata\u001b[0m \u001b[1;33m==\u001b[0m \u001b[0ml\u001b[0m\u001b[1;33m.\u001b[0m\u001b[0mdata\u001b[0m\u001b[1;33m:\u001b[0m\u001b[1;33m\u001b[0m\u001b[1;33m\u001b[0m\u001b[0m\n\u001b[0m\u001b[0;32m     13\u001b[0m                 \u001b[0mcorrect\u001b[0m \u001b[1;33m+=\u001b[0m \u001b[1;36m1\u001b[0m\u001b[1;33m\u001b[0m\u001b[1;33m\u001b[0m\u001b[0m\n\u001b[0;32m     14\u001b[0m \u001b[1;33m\u001b[0m\u001b[0m\n",
      "\u001b[1;31mKeyboardInterrupt\u001b[0m: "
     ]
    }
   ],
   "source": [
    "\n",
    "train(device, limit=60000, batch_count=2000, epoch=200)\n",
    "torch.cuda.empty_cache()"
   ]
  },
  {
   "cell_type": "code",
   "execution_count": 12,
   "metadata": {},
   "outputs": [
    {
     "name": "stdout",
     "output_type": "stream",
     "text": [
      "Accuracy: 0.38329979879275655\tTotal: 994\tCorrect: 381\n",
      "Total: 994\n",
      "Correct: 381\n",
      "Accuracy: 0.38329979879275655\n"
     ]
    }
   ],
   "source": [
    "test(60000, 61000, device, batch_count=10, load_path='./model_large_46.66.pth')\n",
    "torch.cuda.empty_cache()"
   ]
  },
  {
   "cell_type": "code",
   "execution_count": 11,
   "metadata": {},
   "outputs": [],
   "source": [
    "\n",
    "torch.cuda.empty_cache()"
   ]
  },
  {
   "cell_type": "code",
   "execution_count": null,
   "metadata": {},
   "outputs": [],
   "source": []
  }
 ],
 "metadata": {
  "interpreter": {
   "hash": "550159d3197d18b93819777c5ccbabbb5c696c0030a7ee9a90e3eb251d8ed989"
  },
  "kernelspec": {
   "display_name": "Python 3.9.7 ('ososaart')",
   "language": "python",
   "name": "python3"
  },
  "language_info": {
   "codemirror_mode": {
    "name": "ipython",
    "version": 3
   },
   "file_extension": ".py",
   "mimetype": "text/x-python",
   "name": "python",
   "nbconvert_exporter": "python",
   "pygments_lexer": "ipython3",
   "version": "3.9.7"
  },
  "orig_nbformat": 4
 },
 "nbformat": 4,
 "nbformat_minor": 2
}
