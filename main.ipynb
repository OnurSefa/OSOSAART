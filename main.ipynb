{
 "cells": [
  {
   "cell_type": "code",
   "execution_count": 1,
   "metadata": {
    "collapsed": true
   },
   "outputs": [],
   "source": [
    "import torch\n",
    "import torch.nn as nn\n",
    "import numpy as np"
   ]
  },
  {
   "cell_type": "code",
   "execution_count": 2,
   "metadata": {},
   "outputs": [],
   "source": [
    "class Ososa(nn.Module):\n",
    "    def __init__(self):\n",
    "        super(Ososa, self).__init__()\n",
    "        self.conv1 = nn.Conv2d(3, 6, (10, 10))\n",
    "        self.conv2 = nn.Conv2d(6, 4, (8, 8))\n",
    "        self.conv3 = nn.Conv2d(4, 2, (6, 6))\n",
    "        self.relu = nn.ReLU()\n",
    "        self.pool1 = nn.MaxPool2d((3, 3))\n",
    "        self.pool2 = nn.MaxPool2d((3, 3))\n",
    "        self.pool3 = nn.MaxPool2d((5, 5))\n",
    "        self.linear1 = nn.Linear(2 * 5 * 5, 14)\n",
    "        self.linear2 = nn.Linear(10, 2)\n",
    "\n",
    "    def forward(self, x):\n",
    "        x = self.conv1(x)\n",
    "        x = self.relu(x)\n",
    "        x = self.pool1(x)\n",
    "        x = self.conv2(x)\n",
    "        x = self.relu(x)\n",
    "        x = self.pool2(x)\n",
    "        x = self.conv3(x)\n",
    "        x = self.relu(x)\n",
    "        x = self.pool3(x)\n",
    "        x = torch.flatten(x, 1)\n",
    "        x = self.linear1(x)\n",
    "        # x = self.relu(x)\n",
    "        # x = self.linear2(x)\n",
    "        # x = self.relu(x)\n",
    "        return x"
   ]
  },
  {
   "cell_type": "code",
   "execution_count": 3,
   "metadata": {},
   "outputs": [],
   "source": [
    "\n",
    "def train(x, y, device, batch_count=20, epoch=200, learning_rate=0.005, save_path='./ososa_model.pth'):\n",
    "    model = Ososa().to(device)\n",
    "    optimizer = torch.optim.Adam(model.parameters(), lr=learning_rate)\n",
    "    # loss_f = loss_function\n",
    "    # loss_fn = nn.CrossEntropyLoss()\n",
    "    # y = y.long()\n",
    "    # loss_f = loss_function.OsosaLoss(y, number_of_centroids=5)\n",
    "    loss_f = nn.CrossEntropyLoss()\n",
    "    # TODO batch halinde alabiliriz daha cok data kullandigimizda\n",
    "    batch_size = int(x.shape[0] / batch_count)\n",
    "    for e in range(epoch):\n",
    "        for b in range(batch_count):\n",
    "            batched_x = x[b*batch_size:(b+1)*batch_size, :, :, :]\n",
    "            batched_y = y[b*batch_size:(b+1)*batch_size]\n",
    "            train_data = torch.from_numpy(batched_x).float().to(device)\n",
    "            train_labels = torch.from_numpy(batched_y).long().to(device)\n",
    "            optimizer.zero_grad()\n",
    "            prediction = model(train_data)\n",
    "            loss = loss_f(prediction, train_labels)\n",
    "            loss.backward()\n",
    "            optimizer.step()\n",
    "\n",
    "        if e % 10 == 0:\n",
    "            print(\"Loss in e={} is {}\".format(e, loss))\n",
    "            #  loss_f.show(prediction, y)\n",
    "    print('finished')\n",
    "    \n",
    "    torch.save(model.state_dict(), save_path)\n"
   ]
  },
  {
   "cell_type": "code",
   "execution_count": 29,
   "metadata": {},
   "outputs": [],
   "source": [
    "def test(x, y, device, batch_count=4, load_path='./ososa_model.pth'):\n",
    "    correct = 0\n",
    "    total = 0\n",
    "    \n",
    "    batch_size = int(x.shape[0] / batch_count)\n",
    "    for b in range(batch_count):\n",
    "        batched_x = x[b*batch_size:(b+1)*batch_size, :, :, :]\n",
    "        batched_y = y[b*batch_size:(b+1)*batch_size]\n",
    "\n",
    "        test_data = torch.from_numpy(batched_x).float().to(device)\n",
    "        test_labels = torch.from_numpy(batched_y).long().to(device)\n",
    "        with torch.no_grad():\n",
    "            model = Ososa().to(device)\n",
    "            model.load_state_dict(torch.load(load_path))\n",
    "            outputs = model(test_data)\n",
    "            _, predicted = torch.max(outputs.data, 1)\n",
    "            for p, l in zip(predicted, test_labels):\n",
    "                total += 1\n",
    "                if p.data == l.data:\n",
    "                    correct += 1\n",
    "\n",
    "    print(\"Total:\", total)\n",
    "    print(\"Correct:\", correct)\n",
    "    print(\"Accuracy:\", correct/total)"
   ]
  },
  {
   "cell_type": "code",
   "execution_count": 5,
   "metadata": {},
   "outputs": [],
   "source": [
    "def take_data(input_directory_1=\"./numpy_images\", input_directory_2=\"./labels\", limit=5000):\n",
    "\tdirectory_list = os.listdir(input_directory_1)\n",
    "\tdata = []\n",
    "\tlabels = []\n",
    "\tfor i, image_name in enumerate(directory_list):\n",
    "\t\ttry:\n",
    "\t\t\tdatum = np.load(\"{}/{}\".format(input_directory_1, image_name))\n",
    "\t\t\tdatum = datum.reshape(3, 300, 300)\n",
    "\t\t\tlabel = np.load(\"{}/{}\".format(input_directory_2, image_name))\n",
    "\t\t\tdata.append(datum)\n",
    "\t\t\tlabels.append(label)\n",
    "\t\texcept ValueError:\n",
    "\t\t\t# print('valueError')\n",
    "\t\t\tpass\n",
    "\t\tif i % 1000 == 0:\n",
    "\t\t\tprint(i)\n",
    "\t\tif i == limit:\n",
    "\t\t\tbreak\n",
    "\treturn np.array(data), np.array(labels)"
   ]
  },
  {
   "cell_type": "code",
   "execution_count": 6,
   "metadata": {},
   "outputs": [
    {
     "name": "stdout",
     "output_type": "stream",
     "text": [
      "0\n",
      "1000\n",
      "2000\n",
      "3000\n",
      "4000\n",
      "5000\n"
     ]
    }
   ],
   "source": [
    "data, labels = take_data()"
   ]
  },
  {
   "cell_type": "code",
   "execution_count": 7,
   "metadata": {},
   "outputs": [],
   "source": [
    "data_limit = 4000\n",
    "train_data = data[:data_limit, :, :, :]\n",
    "test_data = data[data_limit:, :, :, :]\n",
    "train_labels = labels[:data_limit]\n",
    "test_labels = labels[data_limit:]"
   ]
  },
  {
   "cell_type": "code",
   "execution_count": 8,
   "metadata": {},
   "outputs": [],
   "source": [
    "if torch.cuda.is_available:\n",
    "    device = 'cuda'\n",
    "else:\n",
    "    device = 'cpu'\n"
   ]
  },
  {
   "cell_type": "code",
   "execution_count": 9,
   "metadata": {},
   "outputs": [
    {
     "name": "stdout",
     "output_type": "stream",
     "text": [
      "Loss in e=0 is 2.633272409439087\n",
      "Loss in e=10 is 2.4129557609558105\n",
      "Loss in e=20 is 2.3440566062927246\n",
      "Loss in e=30 is 2.324758529663086\n",
      "Loss in e=40 is 2.3185789585113525\n",
      "finished\n"
     ]
    }
   ],
   "source": [
    "\n",
    "train(train_data, train_labels, device, batch_count=10, epoch=50)\n"
   ]
  },
  {
   "cell_type": "code",
   "execution_count": 30,
   "metadata": {},
   "outputs": [
    {
     "name": "stdout",
     "output_type": "stream",
     "text": [
      "Total: 956\n",
      "Correct: 150\n",
      "Accuracy: 0.15690376569037656\n"
     ]
    }
   ],
   "source": [
    "test(test_data, test_labels, device)\n",
    "    "
   ]
  },
  {
   "cell_type": "code",
   "execution_count": null,
   "metadata": {},
   "outputs": [],
   "source": []
  }
 ],
 "metadata": {
  "kernelspec": {
   "display_name": "Python 3",
   "language": "python",
   "name": "python3"
  },
  "language_info": {
   "codemirror_mode": {
    "name": "ipython",
    "version": 3
   },
   "file_extension": ".py",
   "mimetype": "text/x-python",
   "name": "python",
   "nbconvert_exporter": "python",
   "pygments_lexer": "ipython3",
   "version": "3.9.7"
  }
 },
 "nbformat": 4,
 "nbformat_minor": 0
}
